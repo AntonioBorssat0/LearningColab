{
  "nbformat": 4,
  "nbformat_minor": 0,
  "metadata": {
    "colab": {
      "provenance": [],
      "authorship_tag": "ABX9TyOJiFjTMwz/0xA7ZK4CNrUX",
      "include_colab_link": true
    },
    "kernelspec": {
      "name": "python3",
      "display_name": "Python 3"
    },
    "language_info": {
      "name": "python"
    }
  },
  "cells": [
    {
      "cell_type": "markdown",
      "metadata": {
        "id": "view-in-github",
        "colab_type": "text"
      },
      "source": [
        "<a href=\"https://colab.research.google.com/github/AntonioBorssat0/LearningColab/blob/main/Finding_Prime_Factors_of_a_given_Product.ipynb\" target=\"_parent\"><img src=\"https://colab.research.google.com/assets/colab-badge.svg\" alt=\"Open In Colab\"/></a>"
      ]
    },
    {
      "cell_type": "markdown",
      "source": [
        "**F#ck yeahh, mathematics!**\n",
        "---\n",
        "Hello, dear person. What a day to learn math, uh?\n",
        "\n",
        "Today I will create an algorithm to find the two prime Factors of a given Product. However, it only works for small prime numbers because I don't have a quantum computer (You don't have either. I know.) So be gentle.\n",
        "\n",
        "So let N be the product between two prime numbers: a and b\n",
        "\n",
        "# N = a * b\n",
        "\n",
        "To find a and b we can use the following aproach: choose a number c that doesn't share factors with N. If you multiply c by itself x times, you will get to a multiple y of N plus 1, that is:\n",
        "\n",
        "# c^x = y*N + 1\n",
        "\n",
        "Now, to find the number x, we need to make an iteration dividing c^x by N till the remainder be equals 1. The number x starts at 1 and goes up adding 1 till the moment we get the desired remainder.\n",
        "\n",
        "Let's try it:"
      ],
      "metadata": {
        "id": "H7ZS-iWZ41_J"
      }
    },
    {
      "cell_type": "code",
      "execution_count": 87,
      "metadata": {
        "colab": {
          "base_uri": "https://localhost:8080/"
        },
        "id": "msM6hB1k4SL8",
        "outputId": "1134924f-ec43-4e6d-bc6f-4f2831624878"
      },
      "outputs": [
        {
          "output_type": "stream",
          "name": "stdout",
          "text": [
            "Ex for N: 1843, 989, 74...\n",
            "Type an integer number N that is multiple of two primes: 77\n",
            "\n",
            "Ex for c: 5, 18, 18...\n",
            "Type an integer number c that doen't share factors with 77: 18\n",
            "\n",
            "The value for x is: 30\n"
          ]
        }
      ],
      "source": [
        "import sympy as sp\n",
        "import random as rd\n",
        "import math as mt\n",
        "\n",
        "def c_suggestions(N):\n",
        "    c_list = []\n",
        "    for num in range(2, N):\n",
        "        if mt.gcd(N, num) == 1 and num <= 30:\n",
        "            c_list.append(num)\n",
        "    return c_list\n",
        "\n",
        "def x_finder (c, N):\n",
        "  remainder = 0\n",
        "  x = 1\n",
        "  while remainder != 1:\n",
        "    remainder = c**x % N\n",
        "    if remainder != 1:\n",
        "      x += 1\n",
        "  return x\n",
        "\n",
        "def n_suggestions ():\n",
        "  n_list = []\n",
        "  while len(n_list) < 200:\n",
        "    num1 = 1\n",
        "    num2 = 1\n",
        "    while num1 == 1:\n",
        "      num1 = sp.randprime(1, 100)\n",
        "    while num2 == 1:\n",
        "      num2 = sp.randprime(1, 100)\n",
        "    product = num1 * num2\n",
        "    if product < 2000:\n",
        "      n_list.append(product)\n",
        "  return n_list\n",
        "\n",
        "n_list = n_suggestions()\n",
        "print(\"Ex for N: {}, {}, {}...\".format(rd.choice(n_list), rd.choice(n_list), rd.choice(n_list)))\n",
        "N = int(input(\"Type an integer number N that is multiple of two primes: \"))\n",
        "print()\n",
        "\n",
        "is_x_even = False\n",
        "while is_x_even == False:\n",
        "  c_list = c_suggestions(N)\n",
        "  print(\"Ex for c: {}, {}, {}...\".format(rd.choice(c_list), rd.choice(c_list), rd.choice(c_list)))\n",
        "  c = int(input(\"Type an integer number c that doen't share factors with {}: \".format(N)))\n",
        "\n",
        "  while mt.gcd(N, c) != 1:\n",
        "    print(\"The number you typed shares factors with {}!\".format(N))\n",
        "    c = int(input(\"Please, type a new integer number c that doen't share factors with {}: \".format(N)))\n",
        "\n",
        "  x = x_finder(c, N)\n",
        "  if x % 2 == 0:\n",
        "    print()\n",
        "    print(\"The value for x is: {}\".format(x))\n",
        "    is_x_even = True\n",
        "  else:\n",
        "    print(\"The C number you chose results in an odd X number. Please try again.\")"
      ]
    },
    {
      "cell_type": "markdown",
      "source": [
        "If we make some mathematical magic with the expression c^x = y*N + 1, we will get:\n",
        "\n",
        ">c^x - 1 = yN\n",
        "\n",
        ">(c^x/2 - 1)*(c^x/2 + 1) = yN\n",
        "\n",
        ">(c^x/2 - 1)(c^x/2 + 1) = pq\n",
        "\n",
        "So:\n",
        ">(c^x/2 - 1) = p\n",
        "\n",
        ">(c^x/2 + 1) = q\n",
        "\n",
        "But it only works for X being even. If x is odd, the algorithm won't work.\n",
        "\n",
        "Applying the values we already found, we have:"
      ],
      "metadata": {
        "id": "B8KdUOCHR2YB"
      }
    },
    {
      "cell_type": "code",
      "source": [
        "p = c**(x / 2) + 1\n",
        "q = c**(x / 2) - 1\n",
        "\n",
        "print (p)"
      ],
      "metadata": {
        "id": "6wtNFRtZC3Wv",
        "colab": {
          "base_uri": "https://localhost:8080/"
        },
        "outputId": "9501ab08-c2c4-457a-b9fe-a6ca5902fc2f"
      },
      "execution_count": 88,
      "outputs": [
        {
          "output_type": "stream",
          "name": "stdout",
          "text": [
            "6.746640616477458e+18\n"
          ]
        }
      ]
    },
    {
      "cell_type": "markdown",
      "source": [
        "Now it's time to use the freaking ultra baster Euclid's algorithm! Look at him. Look at this gentleman. Isn't he adorable doing his math halucinations?\n",
        "\n",
        "<img src=\"https://cdn.britannica.com/46/8446-050-BC92B998/Euclid-woodcut-1584.jpg\" alt=\"Sad Euclid\" width=\"150\">\n",
        "\n",
        "We will use the algorithm to find the greatest common divisor between to numbers. \"What numbers?\", you may ask. The p or q and N. We will use p.\n",
        "\n",
        "So, the method starts by dividing p by N and getting the first remainder (r1). Then, we proceed setting the divisor N as a new dividend and the previous remainder as the new divisor. We get the remainder of this divison too (r2) and proceed by setting it as the new divisor with r1 beeing the new dividend. It goes on till the remainder be equals 0 and the divisor of the last operation is que first prime number we want to find.\n",
        "\n",
        "1: p % N = r1\n",
        "\n",
        "2: N % r1 = r2\n",
        "\n",
        "3: r1 % r2 = r3\n",
        "..."
      ],
      "metadata": {
        "id": "6hU-yFscfL9u"
      }
    },
    {
      "cell_type": "code",
      "source": [
        "def euclid_algorithm (p, N):\n",
        "  dividend = p\n",
        "  divisor = N\n",
        "  remainder = p % N\n",
        "\n",
        "  while remainder != 0:\n",
        "    remainder = dividend % divisor\n",
        "    if remainder != 0:\n",
        "      dividend = divisor\n",
        "      divisor = remainder\n",
        "\n",
        "  return divisor\n",
        "\n",
        "first_prime = euclid_algorithm(p, N)\n",
        "print(first_prime)\n",
        "\n"
      ],
      "metadata": {
        "id": "0Si7kxSil5nU",
        "colab": {
          "base_uri": "https://localhost:8080/"
        },
        "outputId": "1c0ff2cc-c9ba-46b6-8d66-c75af489949b"
      },
      "execution_count": 89,
      "outputs": [
        {
          "output_type": "stream",
          "name": "stdout",
          "text": [
            "1.0\n"
          ]
        }
      ]
    },
    {
      "cell_type": "markdown",
      "source": [
        "So, with the first prime number found, we just need to divide N by its to get the second prime:"
      ],
      "metadata": {
        "id": "xNDshtlwoyvz"
      }
    },
    {
      "cell_type": "code",
      "source": [
        "second_prime = N / first_prime"
      ],
      "metadata": {
        "id": "Ja2ugMMtoyXA"
      },
      "execution_count": 90,
      "outputs": []
    },
    {
      "cell_type": "markdown",
      "source": [
        "The two prime numbers of the product are:"
      ],
      "metadata": {
        "id": "MFrVbKnRq9uT"
      }
    },
    {
      "cell_type": "code",
      "source": [
        "print(\"The two prime number of the product {} are: \\n{} \\n{}\".format(N, first_prime, second_prime))"
      ],
      "metadata": {
        "id": "eRN93StDr63k",
        "colab": {
          "base_uri": "https://localhost:8080/"
        },
        "outputId": "388e0fb4-1176-4944-a51b-95b14d819332"
      },
      "execution_count": 91,
      "outputs": [
        {
          "output_type": "stream",
          "name": "stdout",
          "text": [
            "The two prime number of the product 77 are: \n",
            "1.0 \n",
            "77.0\n"
          ]
        }
      ]
    },
    {
      "cell_type": "markdown",
      "source": [
        "# That's all folks!\n",
        "\n",
        "# See you as soon as I learn something new to make a notebook.\n",
        "\n",
        "# Bye."
      ],
      "metadata": {
        "id": "lSCQ0olUsTVu"
      }
    }
  ]
}